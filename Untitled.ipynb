{
 "cells": [
  {
   "cell_type": "code",
   "execution_count": 12,
   "id": "8404b222-ada0-4e53-a22b-3b962d23a182",
   "metadata": {},
   "outputs": [
    {
     "name": "stdout",
     "output_type": "stream",
     "text": [
      "  first_reviewed last_reviewed  private_rooms_count  avg_price\n",
      "0     2019-01-01    2019-07-09                11356     141.78\n"
     ]
    }
   ],
   "source": [
    "import numpy as np\n",
    "import pandas as pd\n",
    "\n",
    "# Read files\n",
    "airbnb_last_review = pd.read_csv('data/airbnb_last_review.tsv', sep='\\t')\n",
    "airbnb_room_type = pd.read_excel('data/airbnb_room_type.xlsx')\n",
    "airbnb_price = pd.read_csv('data/airbnb_price.csv')\n",
    "\n",
    "# Convert 'last_review' column to datetime\n",
    "airbnb_last_review['last_review'] = pd.to_datetime(airbnb_last_review['last_review'], format='%B %d %Y')\n",
    "\n",
    "# Retrieve all columns for the row with maximum and minimum 'last_review'\n",
    "first_reviewed = airbnb_last_review['last_review'].min()\n",
    "last_reviewed = airbnb_last_review['last_review'].max()\n",
    "\n",
    "# Lowercase room_name\n",
    "airbnb_room_type.loc[:, 'room_type'] = airbnb_room_type['room_type'].str.lower()\n",
    "# Count private_rooms\n",
    "private_room = airbnb_room_type['room_type'].value_counts()['private room']\n",
    "\n",
    "# Avarage listing price\n",
    "airbnb_price['price'] = airbnb_price['price'].str.replace(' dollars', '').astype('float')\n",
    "avg_price = round(airbnb_price['price'].mean(), 2)\n",
    "\n",
    "# Review dates\n",
    "review_dates = pd.DataFrame({\n",
    "    'first_reviewed': [first_reviewed],\n",
    "    'last_reviewed': [last_reviewed],\n",
    "    'private_rooms_count': [private_room],\n",
    "    'avg_price': [avg_price]\n",
    "})\n",
    "print(review_dates)"
   ]
  },
  {
   "cell_type": "code",
   "execution_count": null,
   "id": "c401240e-9a98-4963-8263-5028d81188e9",
   "metadata": {},
   "outputs": [],
   "source": []
  },
  {
   "cell_type": "code",
   "execution_count": null,
   "id": "5e4c405a-6069-47fe-b9be-21df499d6a39",
   "metadata": {},
   "outputs": [],
   "source": []
  }
 ],
 "metadata": {
  "kernelspec": {
   "display_name": "Python 3 (ipykernel)",
   "language": "python",
   "name": "python3"
  },
  "language_info": {
   "codemirror_mode": {
    "name": "ipython",
    "version": 3
   },
   "file_extension": ".py",
   "mimetype": "text/x-python",
   "name": "python",
   "nbconvert_exporter": "python",
   "pygments_lexer": "ipython3",
   "version": "3.11.2"
  }
 },
 "nbformat": 4,
 "nbformat_minor": 5
}
